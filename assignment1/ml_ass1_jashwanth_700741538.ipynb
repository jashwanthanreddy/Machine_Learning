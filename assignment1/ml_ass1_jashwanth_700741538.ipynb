{
 "cells": [
  {
   "cell_type": "code",
   "execution_count": 108,
   "id": "cbd0c8f4",
   "metadata": {},
   "outputs": [],
   "source": [
    "\"\"\"Question 1\n",
    "The following is a list of 10 students ages:\n",
    "ages = [19, 22, 19, 24, 20, 25, 26, 24, 25, 24]\n",
    "• Sort the list and find the min and max age\n",
    "• Add the min age and the max age again to the list\n",
    "• Find the median age (one middle item or two middle items divided by two)\n",
    "• Find the average age (sum of all items divided by their number)\n",
    "• Find the range of the ages (max minus min)\"\"\"\n",
    "ages = [19, 22, 19, 24, 20, 25, 26, 24, 25, 24] #creating ages list"
   ]
  },
  {
   "cell_type": "code",
   "execution_count": 109,
   "id": "a21fae12",
   "metadata": {},
   "outputs": [
    {
     "data": {
      "text/plain": [
       "[19, 19, 20, 22, 24, 24, 24, 25, 25, 26]"
      ]
     },
     "execution_count": 109,
     "metadata": {},
     "output_type": "execute_result"
    }
   ],
   "source": [
    "ages.sort() #sorting the list\n",
    "ages"
   ]
  },
  {
   "cell_type": "code",
   "execution_count": 110,
   "id": "71450ab3",
   "metadata": {},
   "outputs": [
    {
     "data": {
      "text/plain": [
       "[19, 19, 20, 22, 24, 24, 24, 25, 25, 26, 19, 26]"
      ]
     },
     "execution_count": 110,
     "metadata": {},
     "output_type": "execute_result"
    }
   ],
   "source": [
    "mi,ma=min(ages),max(ages) #findind min,max and assigning them to variables\n",
    "ages.extend([mi,ma]) #adding min and max again to the list\n",
    "ages"
   ]
  },
  {
   "cell_type": "code",
   "execution_count": 112,
   "id": "63797bfb",
   "metadata": {},
   "outputs": [
    {
     "data": {
      "text/plain": [
       "24.0"
      ]
     },
     "execution_count": 112,
     "metadata": {},
     "output_type": "execute_result"
    }
   ],
   "source": [
    "if len(ages)%2==0:\n",
    "    median=(ages[len(ages)//2]+ages[(len(ages)+1)//2])/2\n",
    "else:\n",
    "    median=ages[(len(ages)-1)//2]\n",
    "median #calculated the median assigned it to the variable. Could've done it using statistics library"
   ]
  },
  {
   "cell_type": "code",
   "execution_count": 113,
   "id": "94cdd291",
   "metadata": {},
   "outputs": [
    {
     "data": {
      "text/plain": [
       "22.75"
      ]
     },
     "execution_count": 113,
     "metadata": {},
     "output_type": "execute_result"
    }
   ],
   "source": [
    "avg=sum(ages)/len(ages)\n",
    "avg #Took average by adding ages and dividing it by length using sum(),len()"
   ]
  },
  {
   "cell_type": "code",
   "execution_count": 114,
   "id": "56efb4f1",
   "metadata": {},
   "outputs": [
    {
     "data": {
      "text/plain": [
       "7"
      ]
     },
     "execution_count": 114,
     "metadata": {},
     "output_type": "execute_result"
    }
   ],
   "source": [
    "ran=ma-mi\n",
    "ran#range of the list"
   ]
  },
  {
   "cell_type": "code",
   "execution_count": 115,
   "id": "93e3ecc6",
   "metadata": {},
   "outputs": [
    {
     "data": {
      "text/plain": [
       "{'name': 'Tommy',\n",
       " 'color': 'black',\n",
       " 'breed': 'german shepard',\n",
       " 'legs': 'hind',\n",
       " 'age': 3}"
      ]
     },
     "execution_count": 115,
     "metadata": {},
     "output_type": "execute_result"
    }
   ],
   "source": [
    "\"\"\"Question 2\n",
    "• Create an empty dictionary called dog\n",
    "• Add name, color, breed, legs, age to the dog dictionary\n",
    "• Create a student dictionary and add first_name, last_name, gender, age, marital status,\n",
    "skills, country, city and address as keys for the dictionary\n",
    "• Get the length of the student dictionary\n",
    "• Get the value of skills and check the data type, it should be a list\n",
    "• Modify the skills values by adding one or two skills\n",
    "• Get the dictionary keys as a list\n",
    "• Get the dictionary values as a list\"\"\"\n",
    "dog={} #creating an empty list\n",
    "dog={'name':'Tommy','color':'black','breed':'german shepard','legs':'hind','age':3}\n",
    "dog #assigned the given keys with values to the dog variable"
   ]
  },
  {
   "cell_type": "code",
   "execution_count": 116,
   "id": "9ce92e5f",
   "metadata": {
    "scrolled": false
   },
   "outputs": [
    {
     "data": {
      "text/plain": [
       "{'first_name': 'Jashwant',\n",
       " 'last_name': 'Reddy',\n",
       " 'gender': 'M',\n",
       " 'age': 23,\n",
       " 'martial arts': 'kung-fu',\n",
       " 'skills': ['java', 'python', 'c', 'pyspark', 'html', 'css', 'js'],\n",
       " 'country': 'India',\n",
       " 'city': 'Hyderabad',\n",
       " 'address': {'street': 'Mallak pet', 'zipcode': 567292}}"
      ]
     },
     "execution_count": 116,
     "metadata": {},
     "output_type": "execute_result"
    }
   ],
   "source": [
    "student={'first_name':\"Jashwant\",\"last_name\":'Reddy','gender':'M','age':23,'martial arts':'kung-fu','skills':['java','python','c','pyspark','html','css','js'],'country':'India','city':'Hyderabad','address':{'street':'Mallak pet','zipcode':567292}}\n",
    "student #created a student dictionary and assigned the values"
   ]
  },
  {
   "cell_type": "code",
   "execution_count": 160,
   "id": "119117e9",
   "metadata": {},
   "outputs": [
    {
     "data": {
      "text/plain": [
       "9"
      ]
     },
     "execution_count": 160,
     "metadata": {},
     "output_type": "execute_result"
    }
   ],
   "source": [
    "len(student) #length of the dictionary "
   ]
  },
  {
   "cell_type": "code",
   "execution_count": 161,
   "id": "71fae10c",
   "metadata": {
    "scrolled": true
   },
   "outputs": [
    {
     "name": "stdout",
     "output_type": "stream",
     "text": [
      "['java', 'python', 'c', 'pyspark', 'html', 'css', 'BootStrap'] <class 'list'>\n"
     ]
    }
   ],
   "source": [
    "print(student.get('skills'),type(student.get('skills'))) #content of the skills key and the type of the value in skills key"
   ]
  },
  {
   "cell_type": "code",
   "execution_count": 162,
   "id": "d4c9fa26",
   "metadata": {},
   "outputs": [
    {
     "data": {
      "text/plain": [
       "['java', 'python', 'c', 'pyspark', 'html', 'css', 'BootStrap']"
      ]
     },
     "execution_count": 162,
     "metadata": {},
     "output_type": "execute_result"
    }
   ],
   "source": [
    "student['skills'].pop() #removed the last item of the skills key\n",
    "student['skills'].append('BootStrap') #added an item to the end of the skills key\n",
    "student['skills']"
   ]
  },
  {
   "cell_type": "code",
   "execution_count": 163,
   "id": "214e0399",
   "metadata": {},
   "outputs": [
    {
     "data": {
      "text/plain": [
       "(dict_keys(['first_name', 'last_name', 'gender', 'age', 'martial arts', 'skills', 'country', 'city', 'address']),\n",
       " dict_values(['Jashwant', 'Reddy', 'M', 23, 'kung-fu', ['java', 'python', 'c', 'pyspark', 'html', 'css', 'BootStrap'], 'India', 'Hyderabad', {'street': 'Mallak pet', 'zipcode': 567292}]))"
      ]
     },
     "execution_count": 163,
     "metadata": {},
     "output_type": "execute_result"
    }
   ],
   "source": [
    "keys=student.keys() #Getting all the keys of the student dictionary\n",
    "values=student.values() #Getting values of all the dictionary \n",
    "keys,values"
   ]
  },
  {
   "cell_type": "code",
   "execution_count": 164,
   "id": "97f0db09",
   "metadata": {},
   "outputs": [
    {
     "data": {
      "text/plain": [
       "('Yashwanth', 'Sakhi')"
      ]
     },
     "execution_count": 164,
     "metadata": {},
     "output_type": "execute_result"
    }
   ],
   "source": [
    "\"\"\"Question 3\n",
    "• Create a tuple containing names of your sisters and your brothers (imaginary siblings are\n",
    "fine)\n",
    "• Join brothers and sisters tuples and assign it to siblings\n",
    "• How many siblings do you have?\n",
    "• Modify the siblings tuple and add the name of your father and mother and assign it to\n",
    "family_members\n",
    "\"\"\"\n",
    "brothers=('Yashwanth',) #brothers tuple\n",
    "sisters=('Sakhi',) #sisters tuple\n",
    "siblings=brothers+sisters #sibings tuple, formed by concatinating brothers and sisters\n",
    "siblings"
   ]
  },
  {
   "cell_type": "code",
   "execution_count": 165,
   "id": "cf2a35a7",
   "metadata": {},
   "outputs": [
    {
     "data": {
      "text/plain": [
       "2"
      ]
     },
     "execution_count": 165,
     "metadata": {},
     "output_type": "execute_result"
    }
   ],
   "source": [
    "sib_count=len(siblings)\n",
    "sib_count #Number of the siblings"
   ]
  },
  {
   "cell_type": "code",
   "execution_count": 166,
   "id": "0d0925bd",
   "metadata": {},
   "outputs": [
    {
     "data": {
      "text/plain": [
       "('Yashwanth', 'Sakhi', 'kiran', 'swathi', 'swami')"
      ]
     },
     "execution_count": 166,
     "metadata": {},
     "output_type": "execute_result"
    }
   ],
   "source": [
    "mother=('swathi',) #mother tuple\n",
    "father=('swami',)  #father tuple\n",
    "siblings=siblings+('kiran',) #Although modifying a tuple is not possible, I have modified it by adding another item. \n",
    "family_members=siblings+mother+father\n",
    "family_members "
   ]
  },
  {
   "cell_type": "code",
   "execution_count": 230,
   "id": "03abd087",
   "metadata": {},
   "outputs": [],
   "source": [
    "\"\"\"Question 4\n",
    "it_companies = {'Facebook', 'Google', 'Microsoft', 'Apple', 'IBM', 'Oracle', 'Amazon'}\n",
    "A = {19, 22, 24, 20, 25, 26}\n",
    "B = {19, 22, 20, 25, 26, 24, 28, 27}\n",
    "age = [22, 19, 24, 25, 26, 24, 25, 24]\n",
    "• Find the length of the set it_companies\n",
    "• Add 'Twitter' to it_companies\n",
    "• Insert multiple IT companies at once to the set it_companies\n",
    "• Remove one of the companies from the set it_companies\n",
    "• What is the difference between remove and discard\n",
    "• Join A and B\n",
    "• Find A intersection B\n",
    "• Is A subset of B\n",
    "• Are A and B disjoint sets\n",
    "• Join A with B and B with A\n",
    "• What is the symmetric difference between A and B\n",
    "• Delete the sets completely\n",
    "• Convert the ages to a set and compare the length of the list and the set.\"\"\"\n",
    "it_companies = {'Facebook', 'Google', 'Microsoft', 'Apple', 'IBM', 'Oracle', 'Amazon'}\n",
    "A = {19, 22, 24, 20, 25, 26}\n",
    "B = {19, 22, 20, 25, 26, 24, 28, 27}\n",
    "age = [22, 19, 24, 25, 26, 24, 25, 24] #given variables"
   ]
  },
  {
   "cell_type": "code",
   "execution_count": 231,
   "id": "7ad868e2",
   "metadata": {},
   "outputs": [
    {
     "data": {
      "text/plain": [
       "7"
      ]
     },
     "execution_count": 231,
     "metadata": {},
     "output_type": "execute_result"
    }
   ],
   "source": [
    "len(it_companies) #length of the %set"
   ]
  },
  {
   "cell_type": "code",
   "execution_count": 232,
   "id": "8d9e765c",
   "metadata": {
    "scrolled": true
   },
   "outputs": [
    {
     "data": {
      "text/plain": [
       "{'Amazon',\n",
       " 'Apple',\n",
       " 'Facebook',\n",
       " 'Google',\n",
       " 'IBM',\n",
       " 'Microsoft',\n",
       " 'Oracle',\n",
       " 'Twitter'}"
      ]
     },
     "execution_count": 232,
     "metadata": {},
     "output_type": "execute_result"
    }
   ],
   "source": [
    "it_companies.add('Twitter')\n",
    "it_companies#added 'Twitter' to the end of the set"
   ]
  },
  {
   "cell_type": "code",
   "execution_count": 233,
   "id": "d420a7fe",
   "metadata": {
    "scrolled": true
   },
   "outputs": [
    {
     "data": {
      "text/plain": [
       "{'Amazon',\n",
       " 'Apple',\n",
       " 'Bofa',\n",
       " 'Facebook',\n",
       " 'Google',\n",
       " 'IBM',\n",
       " 'Infosys',\n",
       " 'Microsoft',\n",
       " 'Oracle',\n",
       " 'TCS',\n",
       " 'Twitter'}"
      ]
     },
     "execution_count": 233,
     "metadata": {},
     "output_type": "execute_result"
    }
   ],
   "source": [
    "comp=['TCS','Infosys','Bofa'] #multiple companies list\n",
    "it_companies.update(comp) #adding those companies to the set\n",
    "it_companies #final set after insertion"
   ]
  },
  {
   "cell_type": "code",
   "execution_count": 234,
   "id": "976c64a4",
   "metadata": {},
   "outputs": [
    {
     "data": {
      "text/plain": [
       "{'Amazon',\n",
       " 'Apple',\n",
       " 'Bofa',\n",
       " 'Facebook',\n",
       " 'Google',\n",
       " 'IBM',\n",
       " 'Microsoft',\n",
       " 'Oracle',\n",
       " 'TCS',\n",
       " 'Twitter'}"
      ]
     },
     "execution_count": 234,
     "metadata": {},
     "output_type": "execute_result"
    }
   ],
   "source": [
    "it_companies.remove('Infosys') #Removing the infosys item from the set\n",
    "it_companies #Set after removing a company"
   ]
  },
  {
   "cell_type": "markdown",
   "id": "99c04a87",
   "metadata": {},
   "source": [
    "discard() function does the same thing as the remove(), expect that the remove() gives error if the item doesn't exist on the other hand discard doesn't.\n"
   ]
  },
  {
   "cell_type": "code",
   "execution_count": 235,
   "id": "d5e22ab4",
   "metadata": {},
   "outputs": [
    {
     "data": {
      "text/plain": [
       "{19, 20, 22, 24, 25, 26, 27, 28}"
      ]
     },
     "execution_count": 235,
     "metadata": {},
     "output_type": "execute_result"
    }
   ],
   "source": [
    "A.union(B) #Result of joining two sets A and B"
   ]
  },
  {
   "cell_type": "code",
   "execution_count": 236,
   "id": "dde5016c",
   "metadata": {},
   "outputs": [
    {
     "data": {
      "text/plain": [
       "{19, 20, 22, 24, 25, 26}"
      ]
     },
     "execution_count": 236,
     "metadata": {},
     "output_type": "execute_result"
    }
   ],
   "source": [
    "intersection=A.intersection(B)\n",
    "intersection#intersection of the sets"
   ]
  },
  {
   "cell_type": "code",
   "execution_count": 237,
   "id": "1890ed8e",
   "metadata": {},
   "outputs": [
    {
     "data": {
      "text/plain": [
       "True"
      ]
     },
     "execution_count": 237,
     "metadata": {},
     "output_type": "execute_result"
    }
   ],
   "source": [
    "A.issubset(B) #Checking if it's a subset"
   ]
  },
  {
   "cell_type": "code",
   "execution_count": 238,
   "id": "afdc4119",
   "metadata": {},
   "outputs": [
    {
     "data": {
      "text/plain": [
       "False"
      ]
     },
     "execution_count": 238,
     "metadata": {},
     "output_type": "execute_result"
    }
   ],
   "source": [
    "A.isdisjoint(B) #Checking if it's a disjoint"
   ]
  },
  {
   "cell_type": "code",
   "execution_count": 242,
   "id": "49ecbcde",
   "metadata": {},
   "outputs": [
    {
     "data": {
      "text/plain": [
       "({19, 20, 22, 24, 25, 26, 27, 28}, {19, 20, 22, 24, 25, 26, 27, 28})"
      ]
     },
     "execution_count": 242,
     "metadata": {},
     "output_type": "execute_result"
    }
   ],
   "source": [
    "x=A.union(B) #Joining A with B\n",
    "y= B.union(A) #Joining B with A\n",
    "x,y"
   ]
  },
  {
   "cell_type": "code",
   "execution_count": 248,
   "id": "d26858a5",
   "metadata": {},
   "outputs": [
    {
     "data": {
      "text/plain": [
       "(set(), {27, 28})"
      ]
     },
     "execution_count": 248,
     "metadata": {},
     "output_type": "execute_result"
    }
   ],
   "source": [
    "da=A.difference(B) #A-B, difference b/w A and B\n",
    "db=B.difference(A) #B-A, difference b/w B and A\n",
    "da,db"
   ]
  },
  {
   "cell_type": "code",
   "execution_count": 249,
   "id": "5758fe63",
   "metadata": {},
   "outputs": [],
   "source": [
    "del A,B #deleting the sets A and B"
   ]
  },
  {
   "cell_type": "code",
   "execution_count": 250,
   "id": "009edb8d",
   "metadata": {},
   "outputs": [
    {
     "ename": "NameError",
     "evalue": "name 'A' is not defined",
     "output_type": "error",
     "traceback": [
      "\u001b[1;31m---------------------------------------------------------------------------\u001b[0m",
      "\u001b[1;31mNameError\u001b[0m                                 Traceback (most recent call last)",
      "\u001b[1;32m~\\AppData\\Local\\Temp/ipykernel_17508/3587564734.py\u001b[0m in \u001b[0;36m<module>\u001b[1;34m\u001b[0m\n\u001b[1;32m----> 1\u001b[1;33m \u001b[0mA\u001b[0m\u001b[1;33m,\u001b[0m\u001b[0mB\u001b[0m \u001b[1;31m#checking if the sets still exists\u001b[0m\u001b[1;33m\u001b[0m\u001b[1;33m\u001b[0m\u001b[0m\n\u001b[0m",
      "\u001b[1;31mNameError\u001b[0m: name 'A' is not defined"
     ]
    }
   ],
   "source": [
    "A,B #checking if the sets still exists"
   ]
  },
  {
   "cell_type": "code",
   "execution_count": 252,
   "id": "680c8667",
   "metadata": {},
   "outputs": [
    {
     "data": {
      "text/plain": [
       "True"
      ]
     },
     "execution_count": 252,
     "metadata": {},
     "output_type": "execute_result"
    }
   ],
   "source": [
    "ages_set=set(ages) #converting ages into a set\n",
    "len(ages_set)<len(ages) #comparing lengths of the ages list and set"
   ]
  },
  {
   "cell_type": "code",
   "execution_count": 257,
   "id": "a965bbf4",
   "metadata": {},
   "outputs": [
    {
     "data": {
      "text/plain": [
       "(2827.4333882308138, 188.49555921538757)"
      ]
     },
     "execution_count": 257,
     "metadata": {},
     "output_type": "execute_result"
    }
   ],
   "source": [
    "\"\"\"Question 5\n",
    "The radius of a circle is 30 meters.\n",
    "• Calculate the area of a circle and assign the value to a variable name of _area_of_circle_\n",
    "• Calculate the circumference of a circle and assign the value to a variable name of\n",
    "_circum_of_circle_\n",
    "• Take radius as user input and calculate the area.\"\"\"\n",
    "import math #imported math library for pi value\n",
    "r=30\n",
    "pi=math.pi\n",
    "_area_of_circle_=pi*r*r #pi*r^2\n",
    "_circum_of_circle_=2*pi*r #2*pi*r\n",
    "_area_of_circle_,_circum_of_circle_"
   ]
  },
  {
   "cell_type": "code",
   "execution_count": 255,
   "id": "f6f57e02",
   "metadata": {},
   "outputs": [
    {
     "name": "stdout",
     "output_type": "stream",
     "text": [
      "4.5\n"
     ]
    },
    {
     "data": {
      "text/plain": [
       "2827.4333882308138"
      ]
     },
     "execution_count": 255,
     "metadata": {},
     "output_type": "execute_result"
    }
   ],
   "source": [
    "radius=float(input()) #input for radius\n",
    "area=pi*r*r\n",
    "area"
   ]
  },
  {
   "cell_type": "code",
   "execution_count": 258,
   "id": "abda6df9",
   "metadata": {},
   "outputs": [
    {
     "data": {
      "text/plain": [
       "10"
      ]
     },
     "execution_count": 258,
     "metadata": {},
     "output_type": "execute_result"
    }
   ],
   "source": [
    "\"\"\"Question 6\n",
    "“I am a teacher and I love to inspire and teach people”\n",
    "• How many unique words have been used in the sentence? Use the split methods and set\n",
    "to get the unique words.\"\"\"\n",
    "\n",
    "sentence='I am a teacher and I love to inspire and teach people'\n",
    "words=sentence.split() #splitting the words in the sentence assigning them to a list\n",
    "len(set(words)) #Taking the length of the set of the words, which is the number of unique words in the sentence as set gives unique values of the list"
   ]
  },
  {
   "cell_type": "code",
   "execution_count": 263,
   "id": "21c1574a",
   "metadata": {},
   "outputs": [
    {
     "name": "stdout",
     "output_type": "stream",
     "text": [
      "Name\tAge\tCountry City\n",
      "Asabeneh\t250\tFinland Helsinki\n"
     ]
    }
   ],
   "source": [
    "\"\"\"Question 7\n",
    "Use a tab escape sequence to get the following lines.\n",
    "Name Age Country City\n",
    "Asabeneh 250 Finland Helsink\"\"\"\n",
    "\n",
    "print('Name\\tAge\\tCountry City\\nAsabeneh\\t250\\tFinland Helsinki') #Using tab escape character for printing"
   ]
  },
  {
   "cell_type": "code",
   "execution_count": 267,
   "id": "26ae9155",
   "metadata": {},
   "outputs": [
    {
     "name": "stdout",
     "output_type": "stream",
     "text": [
      "The area of a circle with radius 10 is 314 meters square.\n"
     ]
    }
   ],
   "source": [
    "\"\"\"\n",
    "Question 8\n",
    "Use the string formatting method to display the following:\n",
    "radius = 10\n",
    "area = 3.14 * radius ** 2\n",
    "“The area of a circle with radius 10 is 314 meters square.”\n",
    "\"\"\"\n",
    "radius=10\n",
    "area=314 #Variables for formating in the print statement\n",
    "print('The area of a circle with radius {0} is {1} meters square.'.format(radius,314))"
   ]
  },
  {
   "cell_type": "code",
   "execution_count": 272,
   "id": "11bfe6e6",
   "metadata": {
    "scrolled": false
   },
   "outputs": [
    {
     "name": "stdout",
     "output_type": "stream",
     "text": [
      "Number of Students3\n",
      "weight 1:145\n",
      "weight 2:161.1\n",
      "weight 3:134\n"
     ]
    },
    {
     "data": {
      "text/plain": [
       "[65.77089365, 73.073730807, 60.781377580000004]"
      ]
     },
     "execution_count": 272,
     "metadata": {},
     "output_type": "execute_result"
    }
   ],
   "source": [
    "\"\"\"\n",
    "Question 9\n",
    "Write a program, which reads weights (lbs.) of N students into a list and convert these weights to\n",
    "kilograms in a separate list using Loop. N: No of students (Read input from user)\n",
    "Ex: L1: [150, 155, 145, 148]\n",
    "Output: [68.03, 70.3, 65.77, 67.13]\n",
    "\"\"\"\n",
    "n=int(input(\"Number of Students\")) #taking input for number of integers\n",
    "lb=[] #list for weights in lb\n",
    "for i in range(0,n):\n",
    "    i=float(input('weight '+str(i+1)+':'))\n",
    "    lb.append(i) #appending the inputs to the list\n",
    "kg=[x*0.45359237 for x in lb] #converting the lbs to kgs using for loop\n",
    "kg"
   ]
  }
 ],
 "metadata": {
  "kernelspec": {
   "display_name": "Python 3 (ipykernel)",
   "language": "python",
   "name": "python3"
  },
  "language_info": {
   "codemirror_mode": {
    "name": "ipython",
    "version": 3
   },
   "file_extension": ".py",
   "mimetype": "text/x-python",
   "name": "python",
   "nbconvert_exporter": "python",
   "pygments_lexer": "ipython3",
   "version": "3.9.7"
  }
 },
 "nbformat": 4,
 "nbformat_minor": 5
}
