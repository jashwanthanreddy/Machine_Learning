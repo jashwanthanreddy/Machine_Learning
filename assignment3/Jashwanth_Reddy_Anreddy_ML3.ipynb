{
 "cells": [
  {
   "cell_type": "code",
   "execution_count": 1,
   "id": "57cd770d",
   "metadata": {},
   "outputs": [
    {
     "name": "stdout",
     "output_type": "stream",
     "text": [
      "[ 7  3 15 13  7 12  8 12  8 13  5  1 17  7  1]\n"
     ]
    }
   ],
   "source": [
    "import numpy as np\n",
    "\n",
    "random_vector = np.random.randint(1, 21, size=15)\n",
    "print(random_vector)\n"
   ]
  },
  {
   "cell_type": "code",
   "execution_count": 2,
   "id": "75603ebd",
   "metadata": {},
   "outputs": [
    {
     "name": "stdout",
     "output_type": "stream",
     "text": [
      "[[ 7  3 15 13  7]\n",
      " [12  8 12  8 13]\n",
      " [ 5  1 17  7  1]]\n"
     ]
    }
   ],
   "source": [
    "reshaped_array = random_vector.reshape(3, 5)\n",
    "print(reshaped_array)"
   ]
  },
  {
   "cell_type": "code",
   "execution_count": 3,
   "id": "db22dfe1",
   "metadata": {},
   "outputs": [
    {
     "name": "stdout",
     "output_type": "stream",
     "text": [
      "Array shape: (3, 5)\n",
      "Array with max values replaced by 0:\n",
      " [[ 7  3  0 13  7]\n",
      " [12  8 12  8  0]\n",
      " [ 5  1  0  7  1]]\n"
     ]
    }
   ],
   "source": [
    "print(\"Array shape:\", reshaped_array.shape)\n",
    "\n",
    "max_indices = np.argmax(reshaped_array, axis=1)\n",
    "for i, max_index in enumerate(max_indices):\n",
    "    reshaped_array[i][max_index] = 0\n",
    "\n",
    "print(\"Array with max values replaced by 0:\\n\", reshaped_array)"
   ]
  },
  {
   "cell_type": "code",
   "execution_count": 4,
   "id": "6cc5a290",
   "metadata": {},
   "outputs": [
    {
     "name": "stdout",
     "output_type": "stream",
     "text": [
      "Shape: (4, 3)\n",
      "Type: <class 'numpy.ndarray'>\n",
      "Data type: int32\n"
     ]
    }
   ],
   "source": [
    "arr = np.zeros((4, 3), dtype=np.int32)\n",
    "print(\"Shape:\", arr.shape)\n",
    "print(\"Type:\", type(arr))\n",
    "print(\"Data type:\", arr.dtype)"
   ]
  },
  {
   "cell_type": "code",
   "execution_count": 5,
   "id": "5706ad5b",
   "metadata": {},
   "outputs": [
    {
     "name": "stdout",
     "output_type": "stream",
     "text": [
      "Eigenvalues: [2. 1.]\n",
      "Eigenvectors: [[0.89442719 0.70710678]\n",
      " [0.4472136  0.70710678]]\n"
     ]
    }
   ],
   "source": [
    "arr = np.array([[3, -2], [1, 0]])\n",
    "eigenvalues, eigenvectors = np.linalg.eig(arr)\n",
    "\n",
    "print(\"Eigenvalues:\", eigenvalues)\n",
    "print(\"Eigenvectors:\", eigenvectors)"
   ]
  },
  {
   "cell_type": "code",
   "execution_count": 6,
   "id": "ecc2b232",
   "metadata": {},
   "outputs": [
    {
     "name": "stdout",
     "output_type": "stream",
     "text": [
      "Diagonal sum: 4\n"
     ]
    }
   ],
   "source": [
    "arr = np.array([[0, 1, 2], [3, 4, 5]])\n",
    "diagonal_sum = np.trace(arr)\n",
    "print(\"Diagonal sum:\", diagonal_sum)"
   ]
  },
  {
   "cell_type": "code",
   "execution_count": 7,
   "id": "5b506e01",
   "metadata": {},
   "outputs": [
    {
     "name": "stdout",
     "output_type": "stream",
     "text": [
      "Original array:\n",
      " [[1 2]\n",
      " [3 4]\n",
      " [5 6]]\n",
      "Reshaped array (3x2):\n",
      " [[1 2 3]\n",
      " [4 5 6]]\n",
      "Reshaped array (2x3):\n",
      " [[1 2]\n",
      " [3 4]\n",
      " [5 6]]\n"
     ]
    }
   ],
   "source": [
    "arr = np.array([[1, 2], [3, 4], [5, 6]])\n",
    "reshaped_arr_1 = np.reshape(arr, (2, 3))\n",
    "reshaped_arr_2 = np.reshape(arr, (3, 2))\n",
    "\n",
    "print(\"Original array:\\n\", arr)\n",
    "print(\"Reshaped array (3x2):\\n\", reshaped_arr_1)\n",
    "print(\"Reshaped array (2x3):\\n\", reshaped_arr_2)"
   ]
  },
  {
   "cell_type": "code",
   "execution_count": 17,
   "id": "89b58a15",
   "metadata": {
    "scrolled": true
   },
   "outputs": [
    {
     "data": {
      "image/png": "[encoded data removed]",
      "text/plain": [
       "<Figure size 432x288 with 1 Axes>"
      ]
     },
     "metadata": {},
     "output_type": "display_data"
    }
   ],
   "source": [
    "import matplotlib.pyplot as plt\n",
    "\n",
    "languages = ['Java', 'Python', 'PHP', 'JavaScript', 'C#', 'C++']\n",
    "popularity = [22.2, 17.6, 8.8, 8, 7.7, 6.7]\n",
    "plt.pie(popularity, labels=languages,startangle=90, autopct='%1.1f%%', explode=(0.1, 0, 0, 0, 0, 0))\n",
    "plt.title('Popularity of Programming Languages')\n",
    "plt.axis('equal')\n",
    "plt.show()"
   ]
  },
  {
   "cell_type": "code",
   "execution_count": null,
   "id": "61676ecb",
   "metadata": {},
   "outputs": [],
   "source": []
  }
 ],
 "metadata": {
  "kernelspec": {
   "display_name": "Python 3 (ipykernel)",
   "language": "python",
   "name": "python3"
  },
  "language_info": {
   "codemirror_mode": {
    "name": "ipython",
    "version": 3
   },
   "file_extension": ".py",
   "mimetype": "text/x-python",
   "name": "python",
   "nbconvert_exporter": "python",
   "pygments_lexer": "ipython3",
   "version": "3.9.7"
  }
 },
 "nbformat": 4,
 "nbformat_minor": 5
}
