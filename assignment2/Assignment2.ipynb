{
 "cells": [
  {
   "cell_type": "code",
   "execution_count": 1,
   "id": "4e71c9d0",
   "metadata": {
    "scrolled": true
   },
   "outputs": [
    {
     "name": "stdout",
     "output_type": "stream",
     "text": [
      "*\n",
      "**\n",
      "***\n",
      "****\n",
      "*****\n",
      "****\n",
      "***\n",
      "**\n",
      "*\n"
     ]
    }
   ],
   "source": [
    "for i in range(1,6):\n",
    "  print('*'*i)\n",
    "for j in range(4,0,-1):\n",
    "  print('*'*j)"
   ]
  },
  {
   "cell_type": "code",
   "execution_count": 2,
   "id": "2f467a4d",
   "metadata": {},
   "outputs": [
    {
     "name": "stdout",
     "output_type": "stream",
     "text": [
      "[20, 40, 60, 80, 100]\n"
     ]
    }
   ],
   "source": [
    "\n",
    "my_list = [10,20,30,40,50,60,70,80,90,100]\n",
    "odd_list = []\n",
    "for i in range(1,len(my_list)):\n",
    "   if i % 2 != 0:\n",
    "     odd_list.append(my_list[i])\n",
    "print(odd_list) "
   ]
  },
  {
   "cell_type": "code",
   "execution_count": 3,
   "id": "cf7c4f45",
   "metadata": {},
   "outputs": [
    {
     "name": "stdout",
     "output_type": "stream",
     "text": [
      "[23, 'Python', 23.98]\n",
      "[<class 'int'>, <class 'str'>, <class 'float'>]\n"
     ]
    }
   ],
   "source": [
    "\n",
    "x = [23,'Python',23.98]\n",
    "res = []\n",
    "for j in x:\n",
    "  #print(type(j), sep = ' ')\n",
    "  res.append(type(j))\n",
    "print(x)  \n",
    "print(res) "
   ]
  },
  {
   "cell_type": "code",
   "execution_count": 5,
   "id": "6c959a1e",
   "metadata": {},
   "outputs": [
    {
     "name": "stdout",
     "output_type": "stream",
     "text": [
      "Enter the number of elements:8\n",
      "1\n",
      "2\n",
      "23\n",
      "12\n",
      "2\n",
      "1\n",
      "5\n",
      "5\n",
      "[1, 2, 23, 12, 5]\n"
     ]
    }
   ],
   "source": [
    "def  unique_list(l):\n",
    "    uniq_result = []\n",
    "    for i in l:\n",
    "      if i not in uniq_result:\n",
    "        uniq_result.append(i)\n",
    "    return uniq_result\n",
    "a = int(input(\"Enter the number of elements:\"))\n",
    "l =[]\n",
    "for k in range(a):\n",
    "     l.append(int(input()))\n",
    "print(unique_list(l))"
   ]
  },
  {
   "cell_type": "code",
   "execution_count": null,
   "id": "7516a57d",
   "metadata": {},
   "outputs": [],
   "source": []
  }
 ],
 "metadata": {
  "kernelspec": {
   "display_name": "Python 3 (ipykernel)",
   "language": "python",
   "name": "python3"
  },
  "language_info": {
   "codemirror_mode": {
    "name": "ipython",
    "version": 3
   },
   "file_extension": ".py",
   "mimetype": "text/x-python",
   "name": "python",
   "nbconvert_exporter": "python",
   "pygments_lexer": "ipython3",
   "version": "3.9.7"
  }
 },
 "nbformat": 4,
 "nbformat_minor": 5
}
